{
 "cells": [
  {
   "cell_type": "markdown",
   "id": "b8d29898-5fc2-4812-9bb0-a4e820255980",
   "metadata": {},
   "source": [
    "## Overview of each pre-trained model with transfer learning developed"
   ]
  },
  {
   "cell_type": "code",
   "execution_count": 1,
   "id": "6a10b7ba-f579-4cb0-8c24-738cee263cc2",
   "metadata": {},
   "outputs": [
    {
     "name": "stderr",
     "output_type": "stream",
     "text": [
      "2023-11-16 12:02:46.523980: E tensorflow/compiler/xla/stream_executor/cuda/cuda_dnn.cc:9342] Unable to register cuDNN factory: Attempting to register factory for plugin cuDNN when one has already been registered\n",
      "2023-11-16 12:02:46.524030: E tensorflow/compiler/xla/stream_executor/cuda/cuda_fft.cc:609] Unable to register cuFFT factory: Attempting to register factory for plugin cuFFT when one has already been registered\n",
      "2023-11-16 12:02:46.524062: E tensorflow/compiler/xla/stream_executor/cuda/cuda_blas.cc:1518] Unable to register cuBLAS factory: Attempting to register factory for plugin cuBLAS when one has already been registered\n",
      "2023-11-16 12:02:46.533145: I tensorflow/core/platform/cpu_feature_guard.cc:182] This TensorFlow binary is optimized to use available CPU instructions in performance-critical operations.\n",
      "To enable the following instructions: AVX2 FMA, in other operations, rebuild TensorFlow with the appropriate compiler flags.\n"
     ]
    }
   ],
   "source": [
    "from tensorflow.keras.models import load_model\n",
    "from collections import defaultdict"
   ]
  },
  {
   "cell_type": "code",
   "execution_count": 4,
   "id": "b9188aad-af0d-4319-aafc-0daf58f76bda",
   "metadata": {},
   "outputs": [
    {
     "name": "stdout",
     "output_type": "stream",
     "text": [
      "WARNING:tensorflow:Error in loading the saved optimizer state. As a result, your model is starting with a freshly initialized optimizer.\n",
      "Model: mobilenet-model.h5\n",
      "Total number of layers: 98\n",
      "InputLayer: 1\n",
      "Conv2D: 16\n",
      "BatchNormalization: 29\n",
      "ReLU: 27\n",
      "DepthwiseConv2D: 13\n",
      "ZeroPadding2D: 4\n",
      "MaxPooling2D: 2\n",
      "Dropout: 3\n",
      "Flatten: 1\n",
      "Dense: 2\n",
      "------------------------------\n",
      "\n",
      "WARNING:tensorflow:Error in loading the saved optimizer state. As a result, your model is starting with a freshly initialized optimizer.\n",
      "Model: googlenet-model.h5\n",
      "Total number of layers: 319\n",
      "InputLayer: 1\n",
      "Conv2D: 95\n",
      "BatchNormalization: 95\n",
      "Activation: 94\n",
      "MaxPooling2D: 5\n",
      "AveragePooling2D: 9\n",
      "Concatenate: 15\n",
      "Dropout: 2\n",
      "GlobalAveragePooling2D: 1\n",
      "Dense: 2\n",
      "------------------------------\n",
      "\n",
      "WARNING:tensorflow:Error in loading the saved optimizer state. As a result, your model is starting with a freshly initialized optimizer.\n",
      "Model: 1c-googlenet-model.h5\n",
      "Total number of layers: 315\n",
      "InputLayer: 1\n",
      "Conv2D: 94\n",
      "BatchNormalization: 94\n",
      "Activation: 94\n",
      "MaxPooling2D: 4\n",
      "AveragePooling2D: 9\n",
      "Concatenate: 15\n",
      "GlobalAveragePooling2D: 1\n",
      "Dense: 2\n",
      "Dropout: 1\n",
      "------------------------------\n",
      "\n",
      "WARNING:tensorflow:Error in loading the saved optimizer state. As a result, your model is starting with a freshly initialized optimizer.\n",
      "Model: efficientnet-model.h5\n",
      "Total number of layers: 246\n",
      "InputLayer: 1\n",
      "Rescaling: 2\n",
      "Normalization: 1\n",
      "ZeroPadding2D: 5\n",
      "Conv2D: 66\n",
      "BatchNormalization: 50\n",
      "Activation: 33\n",
      "DepthwiseConv2D: 16\n",
      "GlobalAveragePooling2D: 17\n",
      "Reshape: 16\n",
      "Multiply: 16\n",
      "Dropout: 11\n",
      "Add: 9\n",
      "MaxPooling2D: 1\n",
      "Dense: 2\n",
      "------------------------------\n",
      "\n"
     ]
    }
   ],
   "source": [
    "# List of model filenames\n",
    "models = ['mobilenet-model.h5', 'googlenet-model.h5', '1c-googlenet-model.h5', 'efficientnet-model.h5']\n",
    "\n",
    "# Iterate through the models\n",
    "for model_name in models:\n",
    "    # Load each model\n",
    "    model = load_model(model_name)\n",
    "    \n",
    "    # Print the model name\n",
    "    print(f\"Model: {model_name}\")\n",
    "\n",
    "    # Count the total number of layers\n",
    "    total_layers = len(model.layers)\n",
    "    print(f\"Total number of layers: {total_layers}\")\n",
    "    \n",
    "    # Count the number of each type of layer\n",
    "    layer_counts = defaultdict(int)\n",
    "    for layer in model.layers:\n",
    "        layer_counts[layer.__class__.__name__] += 1\n",
    "    \n",
    "    # Print the count of each type of layer\n",
    "    for layer_type, count in layer_counts.items():\n",
    "        print(f\"{layer_type}: {count}\")\n",
    "    \n",
    "    # Separation between models\n",
    "    print(\"------------------------------\\n\")\n"
   ]
  },
  {
   "cell_type": "code",
   "execution_count": null,
   "id": "5b8e05e2-e395-4407-80d5-58f4479547bb",
   "metadata": {},
   "outputs": [],
   "source": []
  }
 ],
 "metadata": {
  "environment": {
   "kernel": "python3",
   "name": "pytorch-gpu.2-0.m112",
   "type": "gcloud",
   "uri": "gcr.io/deeplearning-platform-release/pytorch-gpu.2-0:m112"
  },
  "kernelspec": {
   "display_name": "Python 3",
   "language": "python",
   "name": "python3"
  },
  "language_info": {
   "codemirror_mode": {
    "name": "ipython",
    "version": 3
   },
   "file_extension": ".py",
   "mimetype": "text/x-python",
   "name": "python",
   "nbconvert_exporter": "python",
   "pygments_lexer": "ipython3",
   "version": "3.10.12"
  }
 },
 "nbformat": 4,
 "nbformat_minor": 5
}
